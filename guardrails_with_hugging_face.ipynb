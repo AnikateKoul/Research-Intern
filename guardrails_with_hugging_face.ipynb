{
 "cells": [
  {
   "cell_type": "code",
   "execution_count": 17,
   "outputs": [],
   "source": [
    "from guardrails.hub import ToxicLanguage, CompetitorCheck\n",
    "from guardrails import Guard\n",
    "import requests\n",
    "import json"
   ],
   "metadata": {
    "collapsed": false,
    "ExecuteTime": {
     "end_time": "2024-05-23T06:34:31.881882Z",
     "start_time": "2024-05-23T06:34:31.861196900Z"
    }
   }
  },
  {
   "cell_type": "markdown",
   "source": [
    "In this example, we will apply guardrails to an image generation model"
   ],
   "metadata": {
    "collapsed": false
   }
  },
  {
   "cell_type": "code",
   "execution_count": 18,
   "outputs": [],
   "source": [
    "# Here we used 2 guardrails :\n",
    "# Toxic Language check and Competitors check\n",
    "guard = Guard().use(\n",
    "    ToxicLanguage, threshold=0.5, validation_method=\"sentence\", on_fail=\"exception\"\n",
    ").use(CompetitorCheck, [\"Apple\", \"Samsung\"], \"exception\")"
   ],
   "metadata": {
    "collapsed": false,
    "ExecuteTime": {
     "end_time": "2024-05-23T06:35:12.793557700Z",
     "start_time": "2024-05-23T06:34:36.152026100Z"
    }
   }
  },
  {
   "cell_type": "code",
   "execution_count": 19,
   "outputs": [],
   "source": [
    "# Importing the Hugging face API token from config.json file\n",
    "def load_hugging_face_token():\n",
    "    with open('config.json') as config_file:\n",
    "        config = json.load(config_file)\n",
    "        return config['hugging_face_token']"
   ],
   "metadata": {
    "collapsed": false,
    "ExecuteTime": {
     "end_time": "2024-05-23T06:35:22.348240400Z",
     "start_time": "2024-05-23T06:35:22.306965400Z"
    }
   }
  },
  {
   "cell_type": "code",
   "execution_count": 20,
   "outputs": [],
   "source": [
    "# The url for the hosted model and the header files for the http request\n",
    "API_URL = \"https://api-inference.huggingface.co/models/stabilityai/stable-diffusion-xl-base-1.0\"\n",
    "headers = {\"Authorization\": f\"Bearer {load_hugging_face_token()}\"}"
   ],
   "metadata": {
    "collapsed": false,
    "ExecuteTime": {
     "end_time": "2024-05-23T06:35:27.280197600Z",
     "start_time": "2024-05-23T06:35:27.274442500Z"
    }
   }
  },
  {
   "cell_type": "code",
   "execution_count": 22,
   "outputs": [],
   "source": [
    "# creating a http request and then returning the response\n",
    "def query(payload):\n",
    "\tresponse = requests.post(API_URL, headers=headers, json=payload)\n",
    "\treturn response.content"
   ],
   "metadata": {
    "collapsed": false,
    "ExecuteTime": {
     "end_time": "2024-05-23T06:35:34.381559800Z",
     "start_time": "2024-05-23T06:35:34.378718200Z"
    }
   }
  },
  {
   "cell_type": "code",
   "execution_count": 23,
   "outputs": [],
   "source": [
    "# creating a wrapper for the above function which takes in the input and returns the output\n",
    "# The data type of this function is bytes\n",
    "def ai_model(user_input):\n",
    "    payload = {\n",
    "        \"inputs\" : user_input,\n",
    "    }\n",
    "    ai_output = query(payload)\n",
    "    return ai_output"
   ],
   "metadata": {
    "collapsed": false,
    "ExecuteTime": {
     "end_time": "2024-05-23T06:35:37.018213600Z",
     "start_time": "2024-05-23T06:35:37.013116700Z"
    }
   }
  },
  {
   "cell_type": "code",
   "execution_count": 24,
   "outputs": [],
   "source": [
    "# First we validate the input and then return True or False depending on whether the input passes the required conditions or not.\n",
    "def guardrails_ai_wrapper(user_input):\n",
    "    try:\n",
    "        guard.validate(\n",
    "            user_input\n",
    "        )\n",
    "\n",
    "        return True\n",
    "\n",
    "    except Exception as e:\n",
    "        print(str(e))\n",
    "        return False"
   ],
   "metadata": {
    "collapsed": false,
    "ExecuteTime": {
     "end_time": "2024-05-23T06:35:44.681132700Z",
     "start_time": "2024-05-23T06:35:44.676062300Z"
    }
   }
  },
  {
   "cell_type": "code",
   "execution_count": 25,
   "outputs": [],
   "source": [
    "# collecting the input from the user\n",
    "prompt = input(\"Enter the text for image generation : \")"
   ],
   "metadata": {
    "collapsed": false,
    "ExecuteTime": {
     "end_time": "2024-05-23T06:35:57.791224600Z",
     "start_time": "2024-05-23T06:35:47.377843400Z"
    }
   }
  },
  {
   "cell_type": "code",
   "execution_count": 26,
   "outputs": [],
   "source": [
    "# importing the required libraries to convert bytes into image and then output it\n",
    "import io\n",
    "from PIL import Image"
   ],
   "metadata": {
    "collapsed": false,
    "ExecuteTime": {
     "end_time": "2024-05-23T06:36:00.600633400Z",
     "start_time": "2024-05-23T06:36:00.584560Z"
    }
   }
  },
  {
   "cell_type": "code",
   "execution_count": 27,
   "outputs": [],
   "source": [
    "# function to convert bytes to image\n",
    "def get_image(user_input) -> Image:\n",
    "    image_bytes = ai_model(user_input)\n",
    "    image = Image.open(io.BytesIO(image_bytes))\n",
    "    return image"
   ],
   "metadata": {
    "collapsed": false,
    "ExecuteTime": {
     "end_time": "2024-05-23T06:36:10.658207700Z",
     "start_time": "2024-05-23T06:36:10.651409700Z"
    }
   }
  },
  {
   "cell_type": "code",
   "execution_count": 28,
   "outputs": [],
   "source": [
    "# if the user input passes the required conditions, then output the image\n",
    "if guardrails_ai_wrapper(prompt):\n",
    "    get_image(prompt).show()"
   ],
   "metadata": {
    "collapsed": false,
    "ExecuteTime": {
     "end_time": "2024-05-23T06:36:32.401918100Z",
     "start_time": "2024-05-23T06:36:16.872480300Z"
    }
   }
  }
 ],
 "metadata": {
  "kernelspec": {
   "display_name": "Python 3",
   "language": "python",
   "name": "python3"
  },
  "language_info": {
   "codemirror_mode": {
    "name": "ipython",
    "version": 2
   },
   "file_extension": ".py",
   "mimetype": "text/x-python",
   "name": "python",
   "nbconvert_exporter": "python",
   "pygments_lexer": "ipython2",
   "version": "2.7.6"
  }
 },
 "nbformat": 4,
 "nbformat_minor": 0
}
