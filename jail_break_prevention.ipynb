{
 "cells": [
  {
   "cell_type": "code",
   "execution_count": 48,
   "outputs": [],
   "source": [
    "import requests\n",
    "# import json"
   ],
   "metadata": {
    "collapsed": false,
    "ExecuteTime": {
     "end_time": "2024-05-23T09:38:50.414087600Z",
     "start_time": "2024-05-23T09:38:50.349389400Z"
    }
   }
  },
  {
   "cell_type": "markdown",
   "source": [
    "# Methods to access the Mistral-7B LLM"
   ],
   "metadata": {
    "collapsed": false
   }
  },
  {
   "cell_type": "code",
   "execution_count": 49,
   "outputs": [],
   "source": [
    "def load_hugging_face_token():\n",
    "    with open('config.json') as config_file:\n",
    "        config = json.load(config_file)\n",
    "        return config['hugging_face_token']"
   ],
   "metadata": {
    "collapsed": false,
    "ExecuteTime": {
     "end_time": "2024-05-23T09:38:50.520037Z",
     "start_time": "2024-05-23T09:38:50.365486200Z"
    }
   }
  },
  {
   "cell_type": "code",
   "execution_count": 50,
   "outputs": [],
   "source": [
    "API_URL = \"https://api-inference.huggingface.co/models/mistralai/Mistral-7B-Instruct-v0.2\"\n",
    "headers = {\"Authorization\": f\"Bearer {load_hugging_face_token()}\"}"
   ],
   "metadata": {
    "collapsed": false,
    "ExecuteTime": {
     "end_time": "2024-05-23T09:38:50.520037Z",
     "start_time": "2024-05-23T09:38:50.375458900Z"
    }
   }
  },
  {
   "cell_type": "code",
   "execution_count": 51,
   "outputs": [],
   "source": [
    "def query(payload):\n",
    "\tresp = requests.post(API_URL, headers=headers, json=payload)\n",
    "\treturn resp.json()"
   ],
   "metadata": {
    "collapsed": false,
    "ExecuteTime": {
     "end_time": "2024-05-23T09:38:50.520037Z",
     "start_time": "2024-05-23T09:38:50.388976300Z"
    }
   }
  },
  {
   "cell_type": "code",
   "execution_count": 52,
   "outputs": [],
   "source": [
    "def get_response_from_llm(user_query) :\n",
    "    payload = {\n",
    "        \"inputs\": user_query,\n",
    "    }\n",
    "    llm_response = query(payload)\n",
    "    return llm_response"
   ],
   "metadata": {
    "collapsed": false,
    "ExecuteTime": {
     "end_time": "2024-05-23T09:38:50.522308800Z",
     "start_time": "2024-05-23T09:38:50.414087600Z"
    }
   }
  },
  {
   "cell_type": "code",
   "execution_count": 53,
   "metadata": {
    "collapsed": true,
    "ExecuteTime": {
     "end_time": "2024-05-23T09:38:50.522551Z",
     "start_time": "2024-05-23T09:38:50.415599Z"
    }
   },
   "outputs": [],
   "source": [
    "# importing required libraries\n",
    "import google.generativeai as genai\n",
    "import json"
   ]
  },
  {
   "cell_type": "markdown",
   "source": [
    "# Methods to access the Gemini LLM"
   ],
   "metadata": {
    "collapsed": false
   }
  },
  {
   "cell_type": "code",
   "execution_count": 54,
   "outputs": [],
   "source": [
    "# acquiring the api key from config.json file\n",
    "def load_api_key():\n",
    "    with open('config.json') as config_file:\n",
    "        config = json.load(config_file)\n",
    "        return config['apiKey']"
   ],
   "metadata": {
    "collapsed": false,
    "ExecuteTime": {
     "end_time": "2024-05-23T09:38:50.522551Z",
     "start_time": "2024-05-23T09:38:50.430422500Z"
    }
   }
  },
  {
   "cell_type": "code",
   "execution_count": 55,
   "outputs": [],
   "source": [
    "# configuring the gemini model with the api key\n",
    "genai.configure(api_key=load_api_key())"
   ],
   "metadata": {
    "collapsed": false,
    "ExecuteTime": {
     "end_time": "2024-05-23T09:38:50.525615100Z",
     "start_time": "2024-05-23T09:38:50.439643Z"
    }
   }
  },
  {
   "cell_type": "code",
   "execution_count": 56,
   "outputs": [],
   "source": [
    "# configurations for the model\n",
    "gen_config = {\n",
    "    \"temperature\": 1,\n",
    "    \"top_p\": 0.95,\n",
    "    \"top_k\": 64,\n",
    "    \"max_output_tokens\": 200,\n",
    "    \"response_mime_type\": \"text/plain\",\n",
    "}"
   ],
   "metadata": {
    "collapsed": false,
    "ExecuteTime": {
     "end_time": "2024-05-23T09:38:50.525615100Z",
     "start_time": "2024-05-23T09:38:50.455566900Z"
    }
   }
  },
  {
   "cell_type": "markdown",
   "source": [
    "## Configuring the Gemini model to prevent jailbreaks"
   ],
   "metadata": {
    "collapsed": false
   }
  },
  {
   "cell_type": "code",
   "execution_count": 57,
   "outputs": [],
   "source": [
    "# selecting the AI model for the response\n",
    "model = genai.GenerativeModel(\n",
    "    model_name=\"gemini-1.5-pro-latest\",\n",
    "    generation_config=gen_config,\n",
    "    system_instruction=\"You are a judge who decides whether a question is related to football or not. If the question is solely related to football return 'Yes' as answer, else return 'No'. Do not return anything else\"\n",
    ")"
   ],
   "metadata": {
    "collapsed": false,
    "ExecuteTime": {
     "end_time": "2024-05-23T09:38:50.525615100Z",
     "start_time": "2024-05-23T09:38:50.470612700Z"
    }
   }
  },
  {
   "cell_type": "code",
   "execution_count": 58,
   "outputs": [],
   "source": [
    "# for now there is no history for the chat\n",
    "chat_session = model.start_chat(\n",
    "    history=[\n",
    "    ]\n",
    ")"
   ],
   "metadata": {
    "collapsed": false,
    "ExecuteTime": {
     "end_time": "2024-05-23T09:38:50.525615100Z",
     "start_time": "2024-05-23T09:38:50.482350100Z"
    }
   }
  },
  {
   "cell_type": "markdown",
   "source": [
    "## Collecting user input and displaying the result if it meets the requirements"
   ],
   "metadata": {
    "collapsed": false
   }
  },
  {
   "cell_type": "code",
   "execution_count": 62,
   "outputs": [],
   "source": [
    "# collecting input from the user\n",
    "user_input = input(\"Enter text here : \")"
   ],
   "metadata": {
    "collapsed": false,
    "ExecuteTime": {
     "end_time": "2024-05-23T09:41:21.159568Z",
     "start_time": "2024-05-23T09:41:01.371274100Z"
    }
   }
  },
  {
   "cell_type": "code",
   "execution_count": 63,
   "outputs": [
    {
     "name": "stdout",
     "output_type": "stream",
     "text": [
      "Who has scored the most goals in modern day football? Cristiano Ronaldo or Lionel Messi? This question has been a topic of debate among football fans for quite some time, and neither of these players seems to be ready to give an answer.\n",
      "\n",
      "Cristiano Ronaldo currently holds the record for the most goals scored in the UEFA Champions League with a total of 124 goals in 173 appearances. He also holds the record for the most goals scored in a single Champions League season with 17 goals\n"
     ]
    }
   ],
   "source": [
    "# acquiring the response from the AI model and printing it.\n",
    "response = chat_session.send_message(user_input)\n",
    "# chat_session.rewind()\n",
    "\n",
    "# print(response.text)\n",
    "# print(response.text.upper())\n",
    "if response.text.strip() == \"Yes\":\n",
    "    print(get_response_from_llm(user_input)[0]['generated_text'])\n",
    "\n",
    "else :\n",
    "    print(\"Please ask questions related to football only.\")\n",
    "\n"
   ],
   "metadata": {
    "collapsed": false,
    "ExecuteTime": {
     "end_time": "2024-05-23T09:41:34.425253700Z",
     "start_time": "2024-05-23T09:41:31.550394800Z"
    }
   }
  }
 ],
 "metadata": {
  "kernelspec": {
   "display_name": "Python 3",
   "language": "python",
   "name": "python3"
  },
  "language_info": {
   "codemirror_mode": {
    "name": "ipython",
    "version": 2
   },
   "file_extension": ".py",
   "mimetype": "text/x-python",
   "name": "python",
   "nbconvert_exporter": "python",
   "pygments_lexer": "ipython2",
   "version": "2.7.6"
  }
 },
 "nbformat": 4,
 "nbformat_minor": 0
}
