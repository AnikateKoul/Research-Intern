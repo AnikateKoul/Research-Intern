{
 "cells": [
  {
   "cell_type": "code",
   "execution_count": null,
   "metadata": {
    "collapsed": true
   },
   "outputs": [],
   "source": [
    "# importing the required libraries\n",
    "from guardrails.hub import ToxicLanguage, CompetitorCheck\n",
    "from guardrails import Guard"
   ]
  },
  {
   "cell_type": "code",
   "execution_count": 2,
   "outputs": [],
   "source": [
    "# initializing guardrails\n",
    "# Here we used 2 guardrails :\n",
    "# Toxic Language check and Competitors check\n",
    "guard = Guard().use(\n",
    "    ToxicLanguage, threshold=0.5, validation_method=\"sentence\", on_fail=\"exception\"\n",
    ").use(CompetitorCheck, [\"Apple\", \"Samsung\"], \"exception\")"
   ],
   "metadata": {
    "collapsed": false,
    "ExecuteTime": {
     "end_time": "2024-05-21T10:16:29.168000600Z",
     "start_time": "2024-05-21T10:16:04.739183Z"
    }
   }
  },
  {
   "cell_type": "code",
   "execution_count": 3,
   "outputs": [],
   "source": [
    "import google.generativeai as genai\n",
    "import json"
   ],
   "metadata": {
    "collapsed": false,
    "ExecuteTime": {
     "end_time": "2024-05-21T10:17:05.915468500Z",
     "start_time": "2024-05-21T10:17:02.401627600Z"
    }
   }
  },
  {
   "cell_type": "code",
   "execution_count": 4,
   "outputs": [],
   "source": [
    "def get_plain_response(user_input):\n",
    "    def load_api_key():\n",
    "        with open('config.json') as config_file:\n",
    "            config = json.load(config_file)\n",
    "            return config['apiKey']\n",
    "\n",
    "    genai.configure(api_key=load_api_key())\n",
    "    gen_config = {\n",
    "        \"temperature\": 1,\n",
    "        \"top_p\": 0.95,\n",
    "        \"top_k\": 64,\n",
    "        \"max_output_tokens\": 8192,\n",
    "        \"response_mime_type\": \"text/plain\",\n",
    "    }\n",
    "    model = genai.GenerativeModel(\n",
    "        model_name=\"gemini-1.5-flash-latest\",\n",
    "        generation_config=gen_config,\n",
    "    )\n",
    "    chat_session = model.start_chat(\n",
    "        history=[\n",
    "        ]\n",
    "    )\n",
    "\n",
    "    response = chat_session.send_message(user_input)\n",
    "\n",
    "    return response.text\n"
   ],
   "metadata": {
    "collapsed": false,
    "ExecuteTime": {
     "end_time": "2024-05-21T10:17:08.374554500Z",
     "start_time": "2024-05-21T10:17:08.356171Z"
    }
   }
  },
  {
   "cell_type": "code",
   "execution_count": 5,
   "outputs": [],
   "source": [
    "def ai_model(user_input):\n",
    "    ai_output = get_plain_response(user_input)\n",
    "    return ai_output"
   ],
   "metadata": {
    "collapsed": false,
    "ExecuteTime": {
     "end_time": "2024-05-21T10:18:16.508909700Z",
     "start_time": "2024-05-21T10:18:16.469094400Z"
    }
   }
  },
  {
   "cell_type": "code",
   "execution_count": 6,
   "outputs": [],
   "source": [
    "def guardrails_ai_wrapper(user_input):\n",
    "    try:\n",
    "        guard.validate(\n",
    "            input_text\n",
    "        )\n",
    "    except Exception as e:\n",
    "        return str(e)\n",
    "\n",
    "    try:\n",
    "        guard.validate(ai_model(user_input))\n",
    "    except Exception as e:\n",
    "        return str(e)"
   ],
   "metadata": {
    "collapsed": false,
    "ExecuteTime": {
     "end_time": "2024-05-21T10:18:19.019221100Z",
     "start_time": "2024-05-21T10:18:19.011304300Z"
    }
   }
  },
  {
   "cell_type": "code",
   "execution_count": 10,
   "outputs": [
    {
     "name": "stdout",
     "output_type": "stream",
     "text": [
      "What is the latest Samsung mobile phone in the market?\n"
     ]
    }
   ],
   "source": [
    "input_text = input(\"Enter your text : \")\n",
    "print(input_text)"
   ],
   "metadata": {
    "collapsed": false,
    "ExecuteTime": {
     "end_time": "2024-05-21T10:20:20.080357Z",
     "start_time": "2024-05-21T10:19:59.602481700Z"
    }
   }
  },
  {
   "cell_type": "code",
   "execution_count": 11,
   "outputs": [
    {
     "name": "stdout",
     "output_type": "stream",
     "text": [
      "Validation failed for field with errors: Found the following competitors: [['Samsung']]. Please avoid naming those competitors next time\n"
     ]
    }
   ],
   "source": [
    "print(guardrails_ai_wrapper(input_text))"
   ],
   "metadata": {
    "collapsed": false,
    "ExecuteTime": {
     "end_time": "2024-05-21T10:20:40.957604800Z",
     "start_time": "2024-05-21T10:20:34.341871900Z"
    }
   }
  }
 ],
 "metadata": {
  "kernelspec": {
   "display_name": "Python 3",
   "language": "python",
   "name": "python3"
  },
  "language_info": {
   "codemirror_mode": {
    "name": "ipython",
    "version": 2
   },
   "file_extension": ".py",
   "mimetype": "text/x-python",
   "name": "python",
   "nbconvert_exporter": "python",
   "pygments_lexer": "ipython2",
   "version": "2.7.6"
  }
 },
 "nbformat": 4,
 "nbformat_minor": 0
}
