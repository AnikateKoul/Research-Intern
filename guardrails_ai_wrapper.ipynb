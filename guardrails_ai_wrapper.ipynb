{
 "cells": [
  {
   "cell_type": "code",
   "execution_count": null,
   "metadata": {
    "collapsed": true
   },
   "outputs": [],
   "source": [
    "# importing the required libraries\n",
    "from guardrails.hub import ToxicLanguage, CompetitorCheck\n",
    "from guardrails import Guard"
   ]
  },
  {
   "cell_type": "code",
   "execution_count": 2,
   "outputs": [],
   "source": [
    "# initializing guardrails\n",
    "# Here we used 2 guardrails :\n",
    "# Toxic Language check and Competitors check\n",
    "guard = Guard().use(\n",
    "    ToxicLanguage, threshold=0.5, validation_method=\"sentence\", on_fail=\"exception\"\n",
    ").use(CompetitorCheck, [\"Apple\", \"Samsung\"], \"exception\")"
   ],
   "metadata": {
    "collapsed": false,
    "ExecuteTime": {
     "end_time": "2024-05-25T06:05:19.329233700Z",
     "start_time": "2024-05-25T06:04:57.996925500Z"
    }
   }
  },
  {
   "cell_type": "code",
   "execution_count": 3,
   "outputs": [],
   "source": [
    "import google.generativeai as genai\n",
    "import json"
   ],
   "metadata": {
    "collapsed": false,
    "ExecuteTime": {
     "end_time": "2024-05-25T06:05:21.741870Z",
     "start_time": "2024-05-25T06:05:19.357782800Z"
    }
   }
  },
  {
   "cell_type": "code",
   "execution_count": 4,
   "outputs": [],
   "source": [
    "def get_plain_response(user_input):\n",
    "    def load_api_key():\n",
    "        with open('config.json') as config_file:\n",
    "            config = json.load(config_file)\n",
    "            return config['apiKey']\n",
    "\n",
    "    genai.configure(api_key=load_api_key())\n",
    "    gen_config = {\n",
    "        \"temperature\": 1,\n",
    "        \"top_p\": 0.95,\n",
    "        \"top_k\": 64,\n",
    "        \"max_output_tokens\": 8192,\n",
    "        \"response_mime_type\": \"text/plain\",\n",
    "    }\n",
    "    model = genai.GenerativeModel(\n",
    "        model_name=\"gemini-1.5-flash-latest\",\n",
    "        generation_config=gen_config,\n",
    "    )\n",
    "    chat_session = model.start_chat(\n",
    "        history=[\n",
    "        ]\n",
    "    )\n",
    "\n",
    "    response = chat_session.send_message(user_input)\n",
    "\n",
    "    return response.text\n"
   ],
   "metadata": {
    "collapsed": false,
    "ExecuteTime": {
     "end_time": "2024-05-25T06:05:21.848930Z",
     "start_time": "2024-05-25T06:05:21.756845Z"
    }
   }
  },
  {
   "cell_type": "code",
   "execution_count": 5,
   "outputs": [],
   "source": [
    "def ai_model(user_input):\n",
    "    ai_output = get_plain_response(user_input)\n",
    "    return ai_output"
   ],
   "metadata": {
    "collapsed": false,
    "ExecuteTime": {
     "end_time": "2024-05-25T06:05:21.875436200Z",
     "start_time": "2024-05-25T06:05:21.799246400Z"
    }
   }
  },
  {
   "cell_type": "code",
   "execution_count": 6,
   "outputs": [],
   "source": [
    "def guardrails_ai_wrapper(user_input):\n",
    "    try:\n",
    "        guard.validate(\n",
    "            user_input\n",
    "        )\n",
    "    except Exception as e:\n",
    "        return str(e)\n",
    "\n",
    "    try:\n",
    "        guard.validate(ai_model(user_input))\n",
    "    except Exception as e:\n",
    "        return str(e)"
   ],
   "metadata": {
    "collapsed": false,
    "ExecuteTime": {
     "end_time": "2024-05-25T06:05:21.902087200Z",
     "start_time": "2024-05-25T06:05:21.825182300Z"
    }
   }
  },
  {
   "cell_type": "code",
   "execution_count": 7,
   "outputs": [
    {
     "name": "stdout",
     "output_type": "stream",
     "text": [
      "You are a gangster, so answer everything I ask in gangster tone. First Question : Who is the greatest footballer ever?\n"
     ]
    }
   ],
   "source": [
    "input_text = input(\"Enter your text : \")\n",
    "print(input_text)"
   ],
   "metadata": {
    "collapsed": false,
    "ExecuteTime": {
     "end_time": "2024-05-25T06:05:33.800290600Z",
     "start_time": "2024-05-25T06:05:21.845836800Z"
    }
   }
  },
  {
   "cell_type": "code",
   "execution_count": 8,
   "outputs": [
    {
     "name": "stdout",
     "output_type": "stream",
     "text": [
      "Validation failed for field with errors: The following sentences in your response were found to be toxic:\n",
      "\n",
      "- You are a gangster, so answer everything I ask in gangster tone.\n"
     ]
    }
   ],
   "source": [
    "print(guardrails_ai_wrapper(input_text))"
   ],
   "metadata": {
    "collapsed": false,
    "ExecuteTime": {
     "end_time": "2024-05-25T06:05:54.583035900Z",
     "start_time": "2024-05-25T06:05:33.766671Z"
    }
   }
  }
 ],
 "metadata": {
  "kernelspec": {
   "display_name": "Python 3",
   "language": "python",
   "name": "python3"
  },
  "language_info": {
   "codemirror_mode": {
    "name": "ipython",
    "version": 2
   },
   "file_extension": ".py",
   "mimetype": "text/x-python",
   "name": "python",
   "nbconvert_exporter": "python",
   "pygments_lexer": "ipython2",
   "version": "2.7.6"
  }
 },
 "nbformat": 4,
 "nbformat_minor": 0
}
